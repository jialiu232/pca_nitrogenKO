{
 "cells": [
  {
   "cell_type": "markdown",
   "id": "9d4e5f1c",
   "metadata": {},
   "source": [
    "# Learn about the nitrogen cycling related KO patterns predicted by Metagenomic sequencing & Picrust2 predictions"
   ]
  },
  {
   "cell_type": "markdown",
   "id": "43c56cea",
   "metadata": {},
   "source": [
    "## Background\n",
    "\n",
    "In the LAMP soil project, we have 8 soil samples at different experimental conditions (such as fertilizer). Each of these 8 samples has both metagenomic sequencing and 16S rRNA sequencing data. For each soil sample, the nitrogen cycling gene KO abundance profiles (including 46 KEGG ortholog annotated nitrogen cycling genes) were generated using both metagenome sequencing analysis and PICRUST2 function prediction from 16S rRNA sequencing. \n",
    "\n",
    "Our goal is to find the patterns of nitrogen cycling gene abundances under different factors such as function inference methods (metagenome Vs. picrust2), fertilizer level (N0 Vs. N400), and so on. To achieve this goal, I plan to first standardize the nitrogen cycling gene abundance data separately for those resulted from metagenome sequencing and PICRUSt2. Then I will combine the standardized data from two function inference methods, and use PCA to understand the covariance structure of the data. "
   ]
  },
  {
   "cell_type": "markdown",
   "id": "9e341f5d",
   "metadata": {},
   "source": [
    "## Data preprocessing\n",
    "\n",
    "<br>\n",
    "\n",
    "### Load in some basic packages:"
   ]
  },
  {
   "cell_type": "code",
   "execution_count": 238,
   "id": "190ae20f",
   "metadata": {},
   "outputs": [],
   "source": [
    "import pandas as pd\n",
    "import numpy as np\n",
    "import matplotlib.pyplot as plt\n",
    "import seaborn as sns"
   ]
  },
  {
   "cell_type": "markdown",
   "id": "80921de4",
   "metadata": {},
   "source": [
    "<br>\n",
    "\n",
    "### Read in the data\n",
    "\n",
    "Read in the nitrogen cycling functional gene abundance data generated from metagenome and picrust2 analysis:"
   ]
  },
  {
   "cell_type": "code",
   "execution_count": 239,
   "id": "e0477ec2",
   "metadata": {},
   "outputs": [],
   "source": [
    "metag_rel_abun = pd.read_csv('rel_abun_sort_filtered_metag_Nitro.csv',\n",
    "                               index_col = 'ko_id')\n",
    "\n",
    "picrust_rel_abun = pd.read_csv('rel_abun_sort_filtered_picrust2_Nitro.csv',\n",
    "                                 index_col = 'ko_id')"
   ]
  },
  {
   "cell_type": "markdown",
   "id": "57af4d66",
   "metadata": {},
   "source": [
    "We can see from the dataframes below that the 8 columns represents 8 soil samples, each row is a KEGG ortholog annotated nitrogen cycling functional gene:"
   ]
  },
  {
   "cell_type": "code",
   "execution_count": 240,
   "id": "b5a006ed",
   "metadata": {},
   "outputs": [
    {
     "name": "stdout",
     "output_type": "stream",
     "text": [
      "Metagenome profile shape: (46, 8)\n"
     ]
    },
    {
     "data": {
      "text/html": [
       "<div>\n",
       "<style scoped>\n",
       "    .dataframe tbody tr th:only-of-type {\n",
       "        vertical-align: middle;\n",
       "    }\n",
       "\n",
       "    .dataframe tbody tr th {\n",
       "        vertical-align: top;\n",
       "    }\n",
       "\n",
       "    .dataframe thead th {\n",
       "        text-align: right;\n",
       "    }\n",
       "</style>\n",
       "<table border=\"1\" class=\"dataframe\">\n",
       "  <thead>\n",
       "    <tr style=\"text-align: right;\">\n",
       "      <th></th>\n",
       "      <th>S2_2016_0</th>\n",
       "      <th>S2_2017_0</th>\n",
       "      <th>S5_2016_0</th>\n",
       "      <th>S5_2017_0</th>\n",
       "      <th>S2_2016_400</th>\n",
       "      <th>S2_2017_400</th>\n",
       "      <th>S5_2016_400</th>\n",
       "      <th>S5_2017_400</th>\n",
       "    </tr>\n",
       "    <tr>\n",
       "      <th>ko_id</th>\n",
       "      <th></th>\n",
       "      <th></th>\n",
       "      <th></th>\n",
       "      <th></th>\n",
       "      <th></th>\n",
       "      <th></th>\n",
       "      <th></th>\n",
       "      <th></th>\n",
       "    </tr>\n",
       "  </thead>\n",
       "  <tbody>\n",
       "    <tr>\n",
       "      <th>K00260</th>\n",
       "      <td>0.000002</td>\n",
       "      <td>0.000004</td>\n",
       "      <td>0.000003</td>\n",
       "      <td>7.994800e-07</td>\n",
       "      <td>0.000002</td>\n",
       "      <td>0.000002</td>\n",
       "      <td>0.000002</td>\n",
       "      <td>0.000004</td>\n",
       "    </tr>\n",
       "    <tr>\n",
       "      <th>K00261</th>\n",
       "      <td>0.000531</td>\n",
       "      <td>0.000607</td>\n",
       "      <td>0.000545</td>\n",
       "      <td>6.004095e-04</td>\n",
       "      <td>0.000537</td>\n",
       "      <td>0.000566</td>\n",
       "      <td>0.000556</td>\n",
       "      <td>0.000613</td>\n",
       "    </tr>\n",
       "    <tr>\n",
       "      <th>K00262</th>\n",
       "      <td>0.000060</td>\n",
       "      <td>0.000097</td>\n",
       "      <td>0.000049</td>\n",
       "      <td>1.079298e-04</td>\n",
       "      <td>0.000064</td>\n",
       "      <td>0.000072</td>\n",
       "      <td>0.000064</td>\n",
       "      <td>0.000087</td>\n",
       "    </tr>\n",
       "  </tbody>\n",
       "</table>\n",
       "</div>"
      ],
      "text/plain": [
       "        S2_2016_0  S2_2017_0  S5_2016_0     S5_2017_0  S2_2016_400  \\\n",
       "ko_id                                                                \n",
       "K00260   0.000002   0.000004   0.000003  7.994800e-07     0.000002   \n",
       "K00261   0.000531   0.000607   0.000545  6.004095e-04     0.000537   \n",
       "K00262   0.000060   0.000097   0.000049  1.079298e-04     0.000064   \n",
       "\n",
       "        S2_2017_400  S5_2016_400  S5_2017_400  \n",
       "ko_id                                          \n",
       "K00260     0.000002     0.000002     0.000004  \n",
       "K00261     0.000566     0.000556     0.000613  \n",
       "K00262     0.000072     0.000064     0.000087  "
      ]
     },
     "metadata": {},
     "output_type": "display_data"
    },
    {
     "name": "stdout",
     "output_type": "stream",
     "text": [
      "PICRUSt2 profile shape: (46, 8)\n"
     ]
    },
    {
     "data": {
      "text/html": [
       "<div>\n",
       "<style scoped>\n",
       "    .dataframe tbody tr th:only-of-type {\n",
       "        vertical-align: middle;\n",
       "    }\n",
       "\n",
       "    .dataframe tbody tr th {\n",
       "        vertical-align: top;\n",
       "    }\n",
       "\n",
       "    .dataframe thead th {\n",
       "        text-align: right;\n",
       "    }\n",
       "</style>\n",
       "<table border=\"1\" class=\"dataframe\">\n",
       "  <thead>\n",
       "    <tr style=\"text-align: right;\">\n",
       "      <th></th>\n",
       "      <th>S2_2016_0</th>\n",
       "      <th>S2_2017_0</th>\n",
       "      <th>S5_2016_0</th>\n",
       "      <th>S5_2017_0</th>\n",
       "      <th>S2_2016_400</th>\n",
       "      <th>S2_2017_400</th>\n",
       "      <th>S5_2016_400</th>\n",
       "      <th>S5_2017_400</th>\n",
       "    </tr>\n",
       "    <tr>\n",
       "      <th>ko_id</th>\n",
       "      <th></th>\n",
       "      <th></th>\n",
       "      <th></th>\n",
       "      <th></th>\n",
       "      <th></th>\n",
       "      <th></th>\n",
       "      <th></th>\n",
       "      <th></th>\n",
       "    </tr>\n",
       "  </thead>\n",
       "  <tbody>\n",
       "    <tr>\n",
       "      <th>K00260</th>\n",
       "      <td>0.000082</td>\n",
       "      <td>0.000050</td>\n",
       "      <td>0.000071</td>\n",
       "      <td>0.000060</td>\n",
       "      <td>0.000064</td>\n",
       "      <td>0.000034</td>\n",
       "      <td>0.000078</td>\n",
       "      <td>0.000035</td>\n",
       "    </tr>\n",
       "    <tr>\n",
       "      <th>K00261</th>\n",
       "      <td>0.000676</td>\n",
       "      <td>0.000701</td>\n",
       "      <td>0.000653</td>\n",
       "      <td>0.000843</td>\n",
       "      <td>0.000746</td>\n",
       "      <td>0.000802</td>\n",
       "      <td>0.000744</td>\n",
       "      <td>0.000765</td>\n",
       "    </tr>\n",
       "    <tr>\n",
       "      <th>K00262</th>\n",
       "      <td>0.000177</td>\n",
       "      <td>0.000206</td>\n",
       "      <td>0.000195</td>\n",
       "      <td>0.000183</td>\n",
       "      <td>0.000175</td>\n",
       "      <td>0.000181</td>\n",
       "      <td>0.000173</td>\n",
       "      <td>0.000203</td>\n",
       "    </tr>\n",
       "  </tbody>\n",
       "</table>\n",
       "</div>"
      ],
      "text/plain": [
       "        S2_2016_0  S2_2017_0  S5_2016_0  S5_2017_0  S2_2016_400  S2_2017_400  \\\n",
       "ko_id                                                                          \n",
       "K00260   0.000082   0.000050   0.000071   0.000060     0.000064     0.000034   \n",
       "K00261   0.000676   0.000701   0.000653   0.000843     0.000746     0.000802   \n",
       "K00262   0.000177   0.000206   0.000195   0.000183     0.000175     0.000181   \n",
       "\n",
       "        S5_2016_400  S5_2017_400  \n",
       "ko_id                             \n",
       "K00260     0.000078     0.000035  \n",
       "K00261     0.000744     0.000765  \n",
       "K00262     0.000173     0.000203  "
      ]
     },
     "metadata": {},
     "output_type": "display_data"
    }
   ],
   "source": [
    "print(f'Metagenome profile shape: {metag_rel_abun.shape}')\n",
    "display(metag_rel_abun.head(3))\n",
    "print(f'PICRUSt2 profile shape: {picrust_rel_abun.shape}')\n",
    "display(picrust_rel_abun.head(3))"
   ]
  },
  {
   "cell_type": "markdown",
   "id": "79ebbab3",
   "metadata": {},
   "source": [
    "The two abundance profiles were generated by me and I am pretty sure there is no missing values. But just to be safe, let's still do a sanity check:"
   ]
  },
  {
   "cell_type": "code",
   "execution_count": 292,
   "id": "e7f546a7",
   "metadata": {},
   "outputs": [
    {
     "name": "stdout",
     "output_type": "stream",
     "text": [
      "Total number of missing values in metagenome generated abundance profile: 0\n",
      "Total number of missing values in picrust2 generated abundance profile: 0\n"
     ]
    }
   ],
   "source": [
    "print(f'Total number of missing values in metagenome generated abundance profile: {metag_rel_abun.isnull().sum().sum()}')\n",
    "print(f'Total number of missing values in picrust2 generated abundance profile: {picrust_rel_abun.isnull().sum().sum()}')"
   ]
  },
  {
   "cell_type": "markdown",
   "id": "5c5733da",
   "metadata": {},
   "source": [
    "<br>\n",
    "\n",
    "For later standardization steps, we will also load and format the total number of gene counts of each sample generated from the two function inference methods (metagenome & picrust2):"
   ]
  },
  {
   "cell_type": "code",
   "execution_count": 252,
   "id": "60554209",
   "metadata": {},
   "outputs": [],
   "source": [
    "# metagenome total counts\n",
    "metag_N = pd.read_csv('abs_abun_metag_totalKO.csv')[['x']].T\n",
    "metag_N.columns = metag_rel_abun.columns\n",
    "\n",
    "# picrust2 total counts\n",
    "picrust2_N = pd.read_csv('abs_abun_picrust2_totalKO.csv')[['x']].T\n",
    "picrust2_N.columns = picrust_rel_abun.columns"
   ]
  },
  {
   "cell_type": "markdown",
   "id": "1cda8b72",
   "metadata": {},
   "source": [
    "The total counts data looks like:"
   ]
  },
  {
   "cell_type": "code",
   "execution_count": 293,
   "id": "2297b2e4",
   "metadata": {},
   "outputs": [
    {
     "name": "stdout",
     "output_type": "stream",
     "text": [
      "For metagenome:\n"
     ]
    },
    {
     "data": {
      "text/html": [
       "<div>\n",
       "<style scoped>\n",
       "    .dataframe tbody tr th:only-of-type {\n",
       "        vertical-align: middle;\n",
       "    }\n",
       "\n",
       "    .dataframe tbody tr th {\n",
       "        vertical-align: top;\n",
       "    }\n",
       "\n",
       "    .dataframe thead th {\n",
       "        text-align: right;\n",
       "    }\n",
       "</style>\n",
       "<table border=\"1\" class=\"dataframe\">\n",
       "  <thead>\n",
       "    <tr style=\"text-align: right;\">\n",
       "      <th></th>\n",
       "      <th>S2_2016_0</th>\n",
       "      <th>S2_2017_0</th>\n",
       "      <th>S5_2016_0</th>\n",
       "      <th>S5_2017_0</th>\n",
       "      <th>S2_2016_400</th>\n",
       "      <th>S2_2017_400</th>\n",
       "      <th>S5_2016_400</th>\n",
       "      <th>S5_2017_400</th>\n",
       "    </tr>\n",
       "  </thead>\n",
       "  <tbody>\n",
       "    <tr>\n",
       "      <th>x</th>\n",
       "      <td>1083079</td>\n",
       "      <td>985577</td>\n",
       "      <td>1000741</td>\n",
       "      <td>1250813</td>\n",
       "      <td>1079858</td>\n",
       "      <td>1293712</td>\n",
       "      <td>1208050</td>\n",
       "      <td>998122</td>\n",
       "    </tr>\n",
       "  </tbody>\n",
       "</table>\n",
       "</div>"
      ],
      "text/plain": [
       "   S2_2016_0  S2_2017_0  S5_2016_0  S5_2017_0  S2_2016_400  S2_2017_400  \\\n",
       "x    1083079     985577    1000741    1250813      1079858      1293712   \n",
       "\n",
       "   S5_2016_400  S5_2017_400  \n",
       "x      1208050       998122  "
      ]
     },
     "execution_count": 293,
     "metadata": {},
     "output_type": "execute_result"
    }
   ],
   "source": [
    "print(f'For metagenome:')\n",
    "metag_N"
   ]
  },
  {
   "cell_type": "code",
   "execution_count": 294,
   "id": "f95864d0",
   "metadata": {},
   "outputs": [
    {
     "name": "stdout",
     "output_type": "stream",
     "text": [
      "For PICRUSt2:\n"
     ]
    },
    {
     "data": {
      "text/html": [
       "<div>\n",
       "<style scoped>\n",
       "    .dataframe tbody tr th:only-of-type {\n",
       "        vertical-align: middle;\n",
       "    }\n",
       "\n",
       "    .dataframe tbody tr th {\n",
       "        vertical-align: top;\n",
       "    }\n",
       "\n",
       "    .dataframe thead th {\n",
       "        text-align: right;\n",
       "    }\n",
       "</style>\n",
       "<table border=\"1\" class=\"dataframe\">\n",
       "  <thead>\n",
       "    <tr style=\"text-align: right;\">\n",
       "      <th></th>\n",
       "      <th>S2_2016_0</th>\n",
       "      <th>S2_2017_0</th>\n",
       "      <th>S5_2016_0</th>\n",
       "      <th>S5_2017_0</th>\n",
       "      <th>S2_2016_400</th>\n",
       "      <th>S2_2017_400</th>\n",
       "      <th>S5_2016_400</th>\n",
       "      <th>S5_2017_400</th>\n",
       "    </tr>\n",
       "  </thead>\n",
       "  <tbody>\n",
       "    <tr>\n",
       "      <th>x</th>\n",
       "      <td>8390751</td>\n",
       "      <td>8677866</td>\n",
       "      <td>8864552</td>\n",
       "      <td>8206746</td>\n",
       "      <td>8308235</td>\n",
       "      <td>8395907</td>\n",
       "      <td>8395729</td>\n",
       "      <td>8164569</td>\n",
       "    </tr>\n",
       "  </tbody>\n",
       "</table>\n",
       "</div>"
      ],
      "text/plain": [
       "   S2_2016_0  S2_2017_0  S5_2016_0  S5_2017_0  S2_2016_400  S2_2017_400  \\\n",
       "x    8390751    8677866    8864552    8206746      8308235      8395907   \n",
       "\n",
       "   S5_2016_400  S5_2017_400  \n",
       "x      8395729      8164569  "
      ]
     },
     "execution_count": 294,
     "metadata": {},
     "output_type": "execute_result"
    }
   ],
   "source": [
    "print(f'For PICRUSt2:')\n",
    "picrust2_N"
   ]
  },
  {
   "cell_type": "markdown",
   "id": "2760bbf9",
   "metadata": {},
   "source": [
    "<br>\n",
    "\n",
    "### Data standardization\n",
    "\n",
    "Although PCA does not require strict statistical assumptions, it is sensitive to the scale of different features. Let's check the largest possible ratio between feature variances if we just combine the raw abundance profile of metagenome and picrust2 together:"
   ]
  },
  {
   "cell_type": "code",
   "execution_count": 304,
   "id": "84068b1b",
   "metadata": {},
   "outputs": [
    {
     "name": "stdout",
     "output_type": "stream",
     "text": [
      "The largest ratio between two feature variances is: 1171911.987183193\n"
     ]
    }
   ],
   "source": [
    "raw_combined = pd.concat([metag_rel_abun, picrust_rel_abun], axis = 1).T\n",
    "raw_vars = raw_combined.cov().to_numpy().diagonal()\n",
    "\n",
    "print(f'The largest ratio between two feature variances is: {raw_vars.max() / raw_vars.min()}')"
   ]
  },
  {
   "cell_type": "markdown",
   "id": "a622ee44",
   "metadata": {},
   "source": [
    "<br>\n",
    "\n",
    "From the information above, we can tell that feature variances are at very different scales and a standardization is definitly neccesary. To avoid the different scales caused by function inference methods (metagenome Vs. picrust2) within each KO, I plan to standardize the metagenome and picrust2 generated profiles separately before combining them together. \n",
    "\n",
    "To do a z standardize at the multinomial proportional data for each sample, I assumed there is a standard deviation for each nitrogen KO $i$ in each sample: $\\sigma_{\\bar{x}} = \\sqrt{\\frac{p_i(1-p_i)}{N}}$ where $N$ is the total number of counts in each sample. Each value for each nitrogen KO in each sample is thus standardized through $p_{std} = \\frac{p_i}{\\sqrt{\\frac{p_i(1-p_i)}{N}}}$. I did these with the code below: "
   ]
  },
  {
   "cell_type": "code",
   "execution_count": 325,
   "id": "4a275087",
   "metadata": {},
   "outputs": [
    {
     "data": {
      "text/html": [
       "<div>\n",
       "<style scoped>\n",
       "    .dataframe tbody tr th:only-of-type {\n",
       "        vertical-align: middle;\n",
       "    }\n",
       "\n",
       "    .dataframe tbody tr th {\n",
       "        vertical-align: top;\n",
       "    }\n",
       "\n",
       "    .dataframe thead th {\n",
       "        text-align: right;\n",
       "    }\n",
       "</style>\n",
       "<table border=\"1\" class=\"dataframe\">\n",
       "  <thead>\n",
       "    <tr style=\"text-align: right;\">\n",
       "      <th>ko_id</th>\n",
       "      <th>K00260</th>\n",
       "      <th>K00261</th>\n",
       "      <th>K00262</th>\n",
       "      <th>K00265</th>\n",
       "      <th>K00266</th>\n",
       "      <th>K00284</th>\n",
       "      <th>K00360</th>\n",
       "      <th>K00362</th>\n",
       "      <th>K00363</th>\n",
       "      <th>K00366</th>\n",
       "      <th>...</th>\n",
       "      <th>K10945</th>\n",
       "      <th>K10946</th>\n",
       "      <th>K15371</th>\n",
       "      <th>K15576</th>\n",
       "      <th>K15577</th>\n",
       "      <th>K15578</th>\n",
       "      <th>K15579</th>\n",
       "      <th>K15864</th>\n",
       "      <th>K15876</th>\n",
       "      <th>method</th>\n",
       "    </tr>\n",
       "  </thead>\n",
       "  <tbody>\n",
       "    <tr>\n",
       "      <th>S2_2016_0</th>\n",
       "      <td>1.414215</td>\n",
       "      <td>23.985525</td>\n",
       "      <td>8.062500</td>\n",
       "      <td>26.897638</td>\n",
       "      <td>23.628111</td>\n",
       "      <td>19.081991</td>\n",
       "      <td>1.414215</td>\n",
       "      <td>12.768106</td>\n",
       "      <td>8.124286</td>\n",
       "      <td>11.000615</td>\n",
       "      <td>...</td>\n",
       "      <td>6.324672</td>\n",
       "      <td>6.557569</td>\n",
       "      <td>28.768593</td>\n",
       "      <td>12.125179</td>\n",
       "      <td>10.050344</td>\n",
       "      <td>10.863372</td>\n",
       "      <td>1.000000</td>\n",
       "      <td>5.744650</td>\n",
       "      <td>7.416387</td>\n",
       "      <td>metag</td>\n",
       "    </tr>\n",
       "    <tr>\n",
       "      <th>S2_2017_0</th>\n",
       "      <td>2.000004</td>\n",
       "      <td>24.461461</td>\n",
       "      <td>9.798436</td>\n",
       "      <td>27.396554</td>\n",
       "      <td>22.276664</td>\n",
       "      <td>17.352001</td>\n",
       "      <td>1.414215</td>\n",
       "      <td>11.000675</td>\n",
       "      <td>7.810491</td>\n",
       "      <td>12.166439</td>\n",
       "      <td>...</td>\n",
       "      <td>5.656946</td>\n",
       "      <td>7.141613</td>\n",
       "      <td>26.954317</td>\n",
       "      <td>8.660584</td>\n",
       "      <td>6.855818</td>\n",
       "      <td>7.615997</td>\n",
       "      <td>NaN</td>\n",
       "      <td>2.645761</td>\n",
       "      <td>4.358941</td>\n",
       "      <td>metag</td>\n",
       "    </tr>\n",
       "    <tr>\n",
       "      <th>S5_2016_0</th>\n",
       "      <td>1.732053</td>\n",
       "      <td>23.351595</td>\n",
       "      <td>7.000171</td>\n",
       "      <td>25.523005</td>\n",
       "      <td>22.276579</td>\n",
       "      <td>19.238941</td>\n",
       "      <td>1.000000</td>\n",
       "      <td>11.917221</td>\n",
       "      <td>8.124306</td>\n",
       "      <td>9.487260</td>\n",
       "      <td>...</td>\n",
       "      <td>5.477308</td>\n",
       "      <td>6.164531</td>\n",
       "      <td>27.813622</td>\n",
       "      <td>11.917221</td>\n",
       "      <td>9.747257</td>\n",
       "      <td>9.165536</td>\n",
       "      <td>1.414215</td>\n",
       "      <td>6.164531</td>\n",
       "      <td>7.810488</td>\n",
       "      <td>metag</td>\n",
       "    </tr>\n",
       "  </tbody>\n",
       "</table>\n",
       "<p>3 rows × 47 columns</p>\n",
       "</div>"
      ],
      "text/plain": [
       "ko_id        K00260     K00261    K00262     K00265     K00266     K00284  \\\n",
       "S2_2016_0  1.414215  23.985525  8.062500  26.897638  23.628111  19.081991   \n",
       "S2_2017_0  2.000004  24.461461  9.798436  27.396554  22.276664  17.352001   \n",
       "S5_2016_0  1.732053  23.351595  7.000171  25.523005  22.276579  19.238941   \n",
       "\n",
       "ko_id        K00360     K00362    K00363     K00366  ...    K10945    K10946  \\\n",
       "S2_2016_0  1.414215  12.768106  8.124286  11.000615  ...  6.324672  6.557569   \n",
       "S2_2017_0  1.414215  11.000675  7.810491  12.166439  ...  5.656946  7.141613   \n",
       "S5_2016_0  1.000000  11.917221  8.124306   9.487260  ...  5.477308  6.164531   \n",
       "\n",
       "ko_id         K15371     K15576     K15577     K15578    K15579    K15864  \\\n",
       "S2_2016_0  28.768593  12.125179  10.050344  10.863372  1.000000  5.744650   \n",
       "S2_2017_0  26.954317   8.660584   6.855818   7.615997       NaN  2.645761   \n",
       "S5_2016_0  27.813622  11.917221   9.747257   9.165536  1.414215  6.164531   \n",
       "\n",
       "ko_id        K15876  method  \n",
       "S2_2016_0  7.416387   metag  \n",
       "S2_2017_0  4.358941   metag  \n",
       "S5_2016_0  7.810488   metag  \n",
       "\n",
       "[3 rows x 47 columns]"
      ]
     },
     "execution_count": 325,
     "metadata": {},
     "output_type": "execute_result"
    }
   ],
   "source": [
    "# Get the standard deviation matrix sigma\n",
    "sigma_metag = np.multiply(metag_rel_abun, (1-metag_rel_abun)) \\\n",
    "    .div(metag_N.iloc[0], axis = 'columns') \\\n",
    "    .pow(1/2)\n",
    "\n",
    "sigma_picrust = np.multiply(picrust_rel_abun, (1-picrust_rel_abun)) \\\n",
    "    .div(picrust2_N.iloc[0], axis = 'columns') \\\n",
    "    .pow(1/2)\n",
    "\n",
    "# Standardize the relative abundance data, transpose and combine\n",
    "std_metag_abun = metag_rel_abun.div(sigma_metag) \\\n",
    "    .T \\\n",
    "    .assign(method = 'metag')\n",
    "\n",
    "std_picrust_abun = picrust_rel_abun.div(sigma_picrust) \\\n",
    "    .T \\\n",
    "    .assign(method = 'picrust2')\n",
    "\n",
    "# Combine the two standardized matrices\n",
    "std_combined_abun = pd.concat([std_metag_abun, std_picrust_abun])\n",
    "std_combined_abun.head(3)"
   ]
  },
  {
   "cell_type": "markdown",
   "id": "fef96527",
   "metadata": {},
   "source": [
    "The sample names for Metagnome and its corresponding Picrust2 profiles are the same. To ensure the uniqueness of index in the dataframe, let's add a suffix to each index:"
   ]
  },
  {
   "cell_type": "code",
   "execution_count": 326,
   "id": "b27bd853",
   "metadata": {},
   "outputs": [],
   "source": [
    "std_combined_abun.index = [f'{x}_{str(i)}' for i,x in enumerate(std_combined_abun.index)]"
   ]
  },
  {
   "cell_type": "markdown",
   "id": "af301c62",
   "metadata": {},
   "source": [
    "We will not use these for PCA, but I am adding some categorical factors (fertilizer, year, s_value, soil_sample) to the dataframe `std_combined_abun` as well:"
   ]
  },
  {
   "cell_type": "code",
   "execution_count": 327,
   "id": "8c205cf8",
   "metadata": {},
   "outputs": [],
   "source": [
    "std_combined_abun['fertilizer'] = ['N' + x.split('_')[2] for x in std_combined_abun.index]\n",
    "std_combined_abun['year'] = [x.split('_')[1] for x in std_combined_abun.index]\n",
    "std_combined_abun['s_value'] = [x.split('_')[0] for x in std_combined_abun.index]\n",
    "std_combined_abun['soil_sample'] = [x.rsplit('_', 1)[0] for x in std_combined_abun.index]"
   ]
  },
  {
   "cell_type": "markdown",
   "id": "d9061f57",
   "metadata": {},
   "source": [
    "<br>\n",
    "\n",
    "Before moving to the next section, let's do a final missing value check since $NaN$ values may be generated due to $0$ count and $0$ in the sigma (denominator):"
   ]
  },
  {
   "cell_type": "code",
   "execution_count": 345,
   "id": "108dfece",
   "metadata": {},
   "outputs": [
    {
     "data": {
      "text/html": [
       "<div>\n",
       "<style scoped>\n",
       "    .dataframe tbody tr th:only-of-type {\n",
       "        vertical-align: middle;\n",
       "    }\n",
       "\n",
       "    .dataframe tbody tr th {\n",
       "        vertical-align: top;\n",
       "    }\n",
       "\n",
       "    .dataframe thead th {\n",
       "        text-align: right;\n",
       "    }\n",
       "</style>\n",
       "<table border=\"1\" class=\"dataframe\">\n",
       "  <thead>\n",
       "    <tr style=\"text-align: right;\">\n",
       "      <th></th>\n",
       "      <th>ko_id</th>\n",
       "      <th>count</th>\n",
       "    </tr>\n",
       "  </thead>\n",
       "  <tbody>\n",
       "    <tr>\n",
       "      <th>30</th>\n",
       "      <td>K02588</td>\n",
       "      <td>1</td>\n",
       "    </tr>\n",
       "    <tr>\n",
       "      <th>34</th>\n",
       "      <td>K05601</td>\n",
       "      <td>4</td>\n",
       "    </tr>\n",
       "    <tr>\n",
       "      <th>35</th>\n",
       "      <td>K10535</td>\n",
       "      <td>1</td>\n",
       "    </tr>\n",
       "    <tr>\n",
       "      <th>43</th>\n",
       "      <td>K15579</td>\n",
       "      <td>9</td>\n",
       "    </tr>\n",
       "  </tbody>\n",
       "</table>\n",
       "</div>"
      ],
      "text/plain": [
       "     ko_id  count\n",
       "30  K02588      1\n",
       "34  K05601      4\n",
       "35  K10535      1\n",
       "43  K15579      9"
      ]
     },
     "execution_count": 345,
     "metadata": {},
     "output_type": "execute_result"
    }
   ],
   "source": [
    "miss_df = std_combined_abun.isnull().sum().reset_index(name = 'count')\n",
    "miss_df[miss_df['count']!=0]"
   ]
  },
  {
   "cell_type": "markdown",
   "id": "2a74086b",
   "metadata": {},
   "source": [
    "Let's keep that in mind, and I will change all the $NaN$s to $0$ for now:"
   ]
  },
  {
   "cell_type": "code",
   "execution_count": 348,
   "id": "be1fa509",
   "metadata": {},
   "outputs": [],
   "source": [
    "std_combined_abun.fillna(0, inplace=True)"
   ]
  },
  {
   "cell_type": "markdown",
   "id": "d9cb54fd",
   "metadata": {},
   "source": [
    "<br>\n",
    "\n",
    "## Modeling\n",
    "\n",
    "Let's first extract the numerical abundance columns from the dataframe:"
   ]
  },
  {
   "cell_type": "code",
   "execution_count": 349,
   "id": "f8651e10",
   "metadata": {},
   "outputs": [],
   "source": [
    "std_pca_df = std_combined_abun.loc[:, ~std_combined_abun.columns.isin(['method', 'fertilizer', 'year', 's_value', 'soil_sample'])]"
   ]
  },
  {
   "cell_type": "markdown",
   "id": "b27ea04d",
   "metadata": {},
   "source": [
    "### Select the number of factors to retain\n",
    "\n",
    "#### Scree plot\n",
    "\n",
    "We will first use Scree plot to visualize the proportion of variance explained by each principal component:"
   ]
  },
  {
   "cell_type": "code",
   "execution_count": 351,
   "id": "e00c412f",
   "metadata": {},
   "outputs": [
    {
     "name": "stdout",
     "output_type": "stream",
     "text": [
      "Number of total components: 16\n"
     ]
    }
   ],
   "source": [
    "# Build and fit the PCA model\n",
    "from sklearn.decomposition import PCA\n",
    "\n",
    "pca_combined = PCA()\n",
    "pca_com = pca_combined.fit(std_pca_df)\n",
    "print(f'Number of total components: {pca_com.n_components_}')"
   ]
  },
  {
   "cell_type": "code",
   "execution_count": 352,
   "id": "71321de3",
   "metadata": {},
   "outputs": [
    {
     "data": {
      "text/plain": [
       "Text(0.5, 1.0, 'Scree plot')"
      ]
     },
     "execution_count": 352,
     "metadata": {},
     "output_type": "execute_result"
    },
    {
     "data": {
      "image/png": "[encoded data removed]",
      "text/plain": [
       "<Figure size 432x288 with 1 Axes>"
      ]
     },
     "metadata": {
      "needs_background": "light"
     },
     "output_type": "display_data"
    }
   ],
   "source": [
    "# Scree plot\n",
    "PC_values = np.arange(pca_com.n_components_) + 1\n",
    "sns.lineplot(x = PC_values, y = pca_com.explained_variance_ratio_, marker=\"o\")\n",
    "plt.xlabel(\"Principal component\", fontsize= 12)\n",
    "plt.ylabel(\"Proportion of variance explained\", fontsize= 12)\n",
    "plt.title(\"Scree plot\", fontsize= 15)"
   ]
  },
  {
   "cell_type": "markdown",
   "id": "bab6fcd0",
   "metadata": {},
   "source": [
    "The Scree plot shows that the first principal component can already explain at least $95\\%$ of the total variances. The following components seem to contribute much less to the variances."
   ]
  },
  {
   "cell_type": "markdown",
   "id": "bce8a24f",
   "metadata": {},
   "source": [
    "#### Cumulative variances\n",
    "\n",
    "Another way to see the variances explained by principal components and decide the number of components to retain is through cumulative variances. \n",
    "\n",
    "By default, the `PCA()` function in `sklearn.decomposition` will keep all the components. The function below will take a dataframe for PCA and a cumulative variance threshold as inputs; build a default PCA model, iterature through the principal components and calculate the cumulative total variances explained by the iterated components until it reaches the input threshold; then fit a PCA model with the resulted number of PCs and transform the input data with this model:"
   ]
  },
  {
   "cell_type": "code",
   "execution_count": 375,
   "id": "a4bebc4e",
   "metadata": {},
   "outputs": [],
   "source": [
    "def pca(df, cumsum_vari = 0.99):\n",
    "    # Find out the number of PCs that can explain input cumulative variances\n",
    "    pca = PCA()\n",
    "    pca.fit(df)\n",
    "    \n",
    "    n_pc = 0\n",
    "    total_vari = 0.0\n",
    "    for p_var in pca.explained_variance_ratio_:\n",
    "        if total_vari >= cumsum_vari:\n",
    "            break\n",
    "        else:\n",
    "            total_vari += p_var\n",
    "            n_pc += 1\n",
    "            \n",
    "    # Fit the PCA model with the resulted number of PCs and the input df\n",
    "    pca_m = PCA(n_components=n_pc)\n",
    "    pca_trans = pca_m.fit_transform(df) \n",
    "    cols = [f'principal_component_{i}' for i in range(1, n_pc+1)]\n",
    "    \n",
    "    pca_df = pd.DataFrame(data = pca_trans,\n",
    "                          columns = cols,\n",
    "                          index = df.index)\n",
    "    print(f'{str(n_pc)} principal component(s) explained {str(total_vari)} amount of total variances.')\n",
    "    return(pca_df)"
   ]
  },
  {
   "cell_type": "markdown",
   "id": "be6bd254",
   "metadata": {},
   "source": [
    "Let's generate a transformed dataset with PCs that explain at least $0.99$ amount of the total variances:"
   ]
  },
  {
   "cell_type": "code",
   "execution_count": 380,
   "id": "ecbf50fa",
   "metadata": {},
   "outputs": [
    {
     "name": "stdout",
     "output_type": "stream",
     "text": [
      "2 principal component(s) explained 0.991226909184879 amount of total variances.\n"
     ]
    },
    {
     "data": {
      "text/html": [
       "<div>\n",
       "<style scoped>\n",
       "    .dataframe tbody tr th:only-of-type {\n",
       "        vertical-align: middle;\n",
       "    }\n",
       "\n",
       "    .dataframe tbody tr th {\n",
       "        vertical-align: top;\n",
       "    }\n",
       "\n",
       "    .dataframe thead th {\n",
       "        text-align: right;\n",
       "    }\n",
       "</style>\n",
       "<table border=\"1\" class=\"dataframe\">\n",
       "  <thead>\n",
       "    <tr style=\"text-align: right;\">\n",
       "      <th></th>\n",
       "      <th>principal_component_1</th>\n",
       "      <th>principal_component_2</th>\n",
       "      <th>method</th>\n",
       "      <th>fertilizer</th>\n",
       "      <th>year</th>\n",
       "      <th>s_value</th>\n",
       "      <th>soil_sample</th>\n",
       "    </tr>\n",
       "  </thead>\n",
       "  <tbody>\n",
       "    <tr>\n",
       "      <th>S2_2016_0_0</th>\n",
       "      <td>-135.291693</td>\n",
       "      <td>-1.020274</td>\n",
       "      <td>metag</td>\n",
       "      <td>N0</td>\n",
       "      <td>2016</td>\n",
       "      <td>S2</td>\n",
       "      <td>S2_2016_0</td>\n",
       "    </tr>\n",
       "    <tr>\n",
       "      <th>S2_2017_0_1</th>\n",
       "      <td>-139.582678</td>\n",
       "      <td>-0.699612</td>\n",
       "      <td>metag</td>\n",
       "      <td>N0</td>\n",
       "      <td>2017</td>\n",
       "      <td>S2</td>\n",
       "      <td>S2_2017_0</td>\n",
       "    </tr>\n",
       "    <tr>\n",
       "      <th>S5_2016_0_2</th>\n",
       "      <td>-139.677665</td>\n",
       "      <td>-1.348148</td>\n",
       "      <td>metag</td>\n",
       "      <td>N0</td>\n",
       "      <td>2016</td>\n",
       "      <td>S5</td>\n",
       "      <td>S5_2016_0</td>\n",
       "    </tr>\n",
       "    <tr>\n",
       "      <th>S5_2017_0_3</th>\n",
       "      <td>-128.950169</td>\n",
       "      <td>0.599393</td>\n",
       "      <td>metag</td>\n",
       "      <td>N0</td>\n",
       "      <td>2017</td>\n",
       "      <td>S5</td>\n",
       "      <td>S5_2017_0</td>\n",
       "    </tr>\n",
       "    <tr>\n",
       "      <th>S2_2016_400_4</th>\n",
       "      <td>-135.167465</td>\n",
       "      <td>0.776514</td>\n",
       "      <td>metag</td>\n",
       "      <td>N400</td>\n",
       "      <td>2016</td>\n",
       "      <td>S2</td>\n",
       "      <td>S2_2016_400</td>\n",
       "    </tr>\n",
       "    <tr>\n",
       "      <th>S2_2017_400_5</th>\n",
       "      <td>-127.970151</td>\n",
       "      <td>2.249371</td>\n",
       "      <td>metag</td>\n",
       "      <td>N400</td>\n",
       "      <td>2017</td>\n",
       "      <td>S2</td>\n",
       "      <td>S2_2017_400</td>\n",
       "    </tr>\n",
       "    <tr>\n",
       "      <th>S5_2016_400_6</th>\n",
       "      <td>-131.789203</td>\n",
       "      <td>-0.182241</td>\n",
       "      <td>metag</td>\n",
       "      <td>N400</td>\n",
       "      <td>2016</td>\n",
       "      <td>S5</td>\n",
       "      <td>S5_2016_400</td>\n",
       "    </tr>\n",
       "    <tr>\n",
       "      <th>S5_2017_400_7</th>\n",
       "      <td>-138.621403</td>\n",
       "      <td>-0.270013</td>\n",
       "      <td>metag</td>\n",
       "      <td>N400</td>\n",
       "      <td>2017</td>\n",
       "      <td>S5</td>\n",
       "      <td>S5_2017_400</td>\n",
       "    </tr>\n",
       "    <tr>\n",
       "      <th>S2_2016_0_8</th>\n",
       "      <td>137.512010</td>\n",
       "      <td>-2.268395</td>\n",
       "      <td>picrust2</td>\n",
       "      <td>N0</td>\n",
       "      <td>2016</td>\n",
       "      <td>S2</td>\n",
       "      <td>S2_2016_0</td>\n",
       "    </tr>\n",
       "    <tr>\n",
       "      <th>S2_2017_0_9</th>\n",
       "      <td>145.709591</td>\n",
       "      <td>-8.348882</td>\n",
       "      <td>picrust2</td>\n",
       "      <td>N0</td>\n",
       "      <td>2017</td>\n",
       "      <td>S2</td>\n",
       "      <td>S2_2017_0</td>\n",
       "    </tr>\n",
       "    <tr>\n",
       "      <th>S5_2016_0_10</th>\n",
       "      <td>137.657094</td>\n",
       "      <td>38.101166</td>\n",
       "      <td>picrust2</td>\n",
       "      <td>N0</td>\n",
       "      <td>2016</td>\n",
       "      <td>S5</td>\n",
       "      <td>S5_2016_0</td>\n",
       "    </tr>\n",
       "    <tr>\n",
       "      <th>S5_2017_0_11</th>\n",
       "      <td>127.454906</td>\n",
       "      <td>-2.371105</td>\n",
       "      <td>picrust2</td>\n",
       "      <td>N0</td>\n",
       "      <td>2017</td>\n",
       "      <td>S5</td>\n",
       "      <td>S5_2017_0</td>\n",
       "    </tr>\n",
       "    <tr>\n",
       "      <th>S2_2016_400_12</th>\n",
       "      <td>131.243210</td>\n",
       "      <td>-5.416972</td>\n",
       "      <td>picrust2</td>\n",
       "      <td>N400</td>\n",
       "      <td>2016</td>\n",
       "      <td>S2</td>\n",
       "      <td>S2_2016_400</td>\n",
       "    </tr>\n",
       "    <tr>\n",
       "      <th>S2_2017_400_13</th>\n",
       "      <td>139.019621</td>\n",
       "      <td>-17.002437</td>\n",
       "      <td>picrust2</td>\n",
       "      <td>N400</td>\n",
       "      <td>2017</td>\n",
       "      <td>S2</td>\n",
       "      <td>S2_2017_400</td>\n",
       "    </tr>\n",
       "    <tr>\n",
       "      <th>S5_2016_400_14</th>\n",
       "      <td>131.680018</td>\n",
       "      <td>-0.042378</td>\n",
       "      <td>picrust2</td>\n",
       "      <td>N400</td>\n",
       "      <td>2016</td>\n",
       "      <td>S5</td>\n",
       "      <td>S5_2016_400</td>\n",
       "    </tr>\n",
       "    <tr>\n",
       "      <th>S5_2017_400_15</th>\n",
       "      <td>126.773976</td>\n",
       "      <td>-2.755986</td>\n",
       "      <td>picrust2</td>\n",
       "      <td>N400</td>\n",
       "      <td>2017</td>\n",
       "      <td>S5</td>\n",
       "      <td>S5_2017_400</td>\n",
       "    </tr>\n",
       "  </tbody>\n",
       "</table>\n",
       "</div>"
      ],
      "text/plain": [
       "                principal_component_1  principal_component_2    method  \\\n",
       "S2_2016_0_0               -135.291693              -1.020274     metag   \n",
       "S2_2017_0_1               -139.582678              -0.699612     metag   \n",
       "S5_2016_0_2               -139.677665              -1.348148     metag   \n",
       "S5_2017_0_3               -128.950169               0.599393     metag   \n",
       "S2_2016_400_4             -135.167465               0.776514     metag   \n",
       "S2_2017_400_5             -127.970151               2.249371     metag   \n",
       "S5_2016_400_6             -131.789203              -0.182241     metag   \n",
       "S5_2017_400_7             -138.621403              -0.270013     metag   \n",
       "S2_2016_0_8                137.512010              -2.268395  picrust2   \n",
       "S2_2017_0_9                145.709591              -8.348882  picrust2   \n",
       "S5_2016_0_10               137.657094              38.101166  picrust2   \n",
       "S5_2017_0_11               127.454906              -2.371105  picrust2   \n",
       "S2_2016_400_12             131.243210              -5.416972  picrust2   \n",
       "S2_2017_400_13             139.019621             -17.002437  picrust2   \n",
       "S5_2016_400_14             131.680018              -0.042378  picrust2   \n",
       "S5_2017_400_15             126.773976              -2.755986  picrust2   \n",
       "\n",
       "               fertilizer  year s_value  soil_sample  \n",
       "S2_2016_0_0            N0  2016      S2    S2_2016_0  \n",
       "S2_2017_0_1            N0  2017      S2    S2_2017_0  \n",
       "S5_2016_0_2            N0  2016      S5    S5_2016_0  \n",
       "S5_2017_0_3            N0  2017      S5    S5_2017_0  \n",
       "S2_2016_400_4        N400  2016      S2  S2_2016_400  \n",
       "S2_2017_400_5        N400  2017      S2  S2_2017_400  \n",
       "S5_2016_400_6        N400  2016      S5  S5_2016_400  \n",
       "S5_2017_400_7        N400  2017      S5  S5_2017_400  \n",
       "S2_2016_0_8            N0  2016      S2    S2_2016_0  \n",
       "S2_2017_0_9            N0  2017      S2    S2_2017_0  \n",
       "S5_2016_0_10           N0  2016      S5    S5_2016_0  \n",
       "S5_2017_0_11           N0  2017      S5    S5_2017_0  \n",
       "S2_2016_400_12       N400  2016      S2  S2_2016_400  \n",
       "S2_2017_400_13       N400  2017      S2  S2_2017_400  \n",
       "S5_2016_400_14       N400  2016      S5  S5_2016_400  \n",
       "S5_2017_400_15       N400  2017      S5  S5_2017_400  "
      ]
     },
     "execution_count": 380,
     "metadata": {},
     "output_type": "execute_result"
    }
   ],
   "source": [
    "std_pca_2pc = pca(std_pca_df)\n",
    "\n",
    "# Add the categorical factors to the transformed data\n",
    "cata_fac = std_combined_abun.loc[:, std_combined_abun.columns.isin(['method', 'fertilizer', 'year', 's_value', 'soil_sample'])]\n",
    "std_pca2_full_df = pd.concat([std_pca_2pc, cata_fac], axis=1)\n",
    "std_pca2_full_df"
   ]
  },
  {
   "cell_type": "markdown",
   "id": "cb15f21c",
   "metadata": {},
   "source": [
    "<br>\n",
    "\n",
    "### Visualize the principal components\n",
    "\n",
    "Let's plot PC2 Vs. PC1 using color to differentiate levels in different categorical groups:"
   ]
  },
  {
   "cell_type": "code",
   "execution_count": 379,
   "id": "7c961fa9",
   "metadata": {},
   "outputs": [
    {
     "data": {
      "image/png": "[encoded data removed]",
      "text/plain": [
       "<Figure size 1008x720 with 5 Axes>"
      ]
     },
     "metadata": {
      "needs_background": "light"
     },
     "output_type": "display_data"
    }
   ],
   "source": [
    "cata = cata_fac.columns.to_list()\n",
    "\n",
    "#  Categorical Data\n",
    "a = 2  # number of rows\n",
    "b = 3  # number of columns\n",
    "c = 1  # initialize plot counter\n",
    "\n",
    "fig = plt.figure(figsize = (14, 10))\n",
    "\n",
    "for i in cata:\n",
    "    plt.subplot(a, b, c)\n",
    "    plt.title(f'{i}')\n",
    "    plt.xlabel(\"PC1\")\n",
    "    plt.ylabel(\"PC2\")\n",
    "    sns.scatterplot(data=std_pca2_full_df, x = \"principal_component_1\", y = \"principal_component_2\", hue=i)\n",
    "    c += 1\n",
    "plt.show()"
   ]
  },
  {
   "cell_type": "markdown",
   "id": "effd8beb",
   "metadata": {},
   "source": [
    "From the first subplot reflecting method factor with colors, we can tell that PC1 gives a good separation of metagenome and picrust2. From the transformed principal component 1 values above, we can also see that the principal component 1 is actually a linear combination with large positive coefficients for profiles generated by PICRUSt2 and large negative coefficients for profiles generated by Metagenome. \n",
    "\n",
    "While we cannot see obvious patterns for other categorical factors in the rest plots. That also makes sense since pincipal component 1 itself explains $0.98489$ amount of the total variances."
   ]
  },
  {
   "cell_type": "code",
   "execution_count": null,
   "id": "8596a1d2",
   "metadata": {},
   "outputs": [],
   "source": []
  }
 ],
 "metadata": {
  "kernelspec": {
   "display_name": "Python 3 (ipykernel)",
   "language": "python",
   "name": "python3"
  },
  "language_info": {
   "codemirror_mode": {
    "name": "ipython",
    "version": 3
   },
   "file_extension": ".py",
   "mimetype": "text/x-python",
   "name": "python",
   "nbconvert_exporter": "python",
   "pygments_lexer": "ipython3",
   "version": "3.9.7"
  }
 },
 "nbformat": 4,
 "nbformat_minor": 5
}
